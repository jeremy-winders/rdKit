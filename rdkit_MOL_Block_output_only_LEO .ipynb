{
 "cells": [
  {
   "cell_type": "code",
   "execution_count": 1,
   "metadata": {},
   "outputs": [],
   "source": [
    "import sys\n",
    "sys.path.insert(1, \"../../ptrms/\")"
   ]
  },
  {
   "cell_type": "code",
   "execution_count": 2,
   "metadata": {},
   "outputs": [
    {
     "name": "stderr",
     "output_type": "stream",
     "text": [
      "RDKit WARNING: [11:39:20] Enabling RDKit 2019.09.3 jupyter extensions\n"
     ]
    }
   ],
   "source": [
    "import rdkit\n",
    "import rdkit.Chem\n",
    "import rdkit.Chem.PandasTools\n",
    "import pandas as pd\n",
    "# from cheminformatics import molfile"
   ]
  },
  {
   "cell_type": "code",
   "execution_count": 3,
   "metadata": {},
   "outputs": [],
   "source": [
    "from cheminformatics import molfile"
   ]
  },
  {
   "cell_type": "markdown",
   "metadata": {},
   "source": [
    "https://camkirk.medium.com/rdkit-simple-file-input-and-output-e6764fc1e35c"
   ]
  },
  {
   "cell_type": "markdown",
   "metadata": {},
   "source": [
    "## Importing Testfile"
   ]
  },
  {
   "cell_type": "code",
   "execution_count": 4,
   "metadata": {},
   "outputs": [],
   "source": [
    "test_df = pd.read_csv(\"../2021_03_08_rdkit_test/input/MasterList_PostOpen_Refine.csv\")"
   ]
  },
  {
   "cell_type": "code",
   "execution_count": 5,
   "metadata": {
    "scrolled": true
   },
   "outputs": [
    {
     "data": {
      "text/html": [
       "<div>\n",
       "<style scoped>\n",
       "    .dataframe tbody tr th:only-of-type {\n",
       "        vertical-align: middle;\n",
       "    }\n",
       "\n",
       "    .dataframe tbody tr th {\n",
       "        vertical-align: top;\n",
       "    }\n",
       "\n",
       "    .dataframe thead th {\n",
       "        text-align: right;\n",
       "    }\n",
       "</style>\n",
       "<table border=\"1\" class=\"dataframe\">\n",
       "  <thead>\n",
       "    <tr style=\"text-align: right;\">\n",
       "      <th></th>\n",
       "      <th>Compound Name</th>\n",
       "      <th>InChI</th>\n",
       "    </tr>\n",
       "  </thead>\n",
       "  <tbody>\n",
       "    <tr>\n",
       "      <th>0</th>\n",
       "      <td>MBOA (Coixol)</td>\n",
       "      <td>InChI=1S/C8H7NO3/c1-11-5-2-3-6-7(4-5)12-8(10)9...</td>\n",
       "    </tr>\n",
       "    <tr>\n",
       "      <th>1</th>\n",
       "      <td>HDMBOA-glucoside</td>\n",
       "      <td>InChI=1S/C16H21NO10/c1-23-7-3-4-8-9(5-7)25-16(...</td>\n",
       "    </tr>\n",
       "    <tr>\n",
       "      <th>2</th>\n",
       "      <td>HDMBOA-glucoside-like (410 version - adduct?)</td>\n",
       "      <td>InChI=1S/C16H21NO10/c1-23-7-3-4-8-9(5-7)25-16(...</td>\n",
       "    </tr>\n",
       "    <tr>\n",
       "      <th>3</th>\n",
       "      <td>DIMBOA(a)</td>\n",
       "      <td>InChI=1S/C9H9NO5/c1-14-5-2-3-6-7(4-5)15-9(12)8...</td>\n",
       "    </tr>\n",
       "    <tr>\n",
       "      <th>4</th>\n",
       "      <td>DIMBOA(b)</td>\n",
       "      <td>InChI=1S/C9H9NO5/c1-14-5-2-3-6-7(4-5)15-9(12)8...</td>\n",
       "    </tr>\n",
       "    <tr>\n",
       "      <th>5</th>\n",
       "      <td>DIBOA</td>\n",
       "      <td>InChI=1S/C8H7NO4/c10-7-8(11)13-6-4-2-1-3-5(6)9...</td>\n",
       "    </tr>\n",
       "    <tr>\n",
       "      <th>6</th>\n",
       "      <td>ABOA</td>\n",
       "      <td>InChI=1S/C9H7NO3/c1-5(11)6-3-2-4-7-8(6)10-9(12...</td>\n",
       "    </tr>\n",
       "    <tr>\n",
       "      <th>7</th>\n",
       "      <td>ABOA-like compound</td>\n",
       "      <td>InChI=1S/C9H7NO3/c1-5(11)6-3-2-4-7-8(6)10-9(12...</td>\n",
       "    </tr>\n",
       "    <tr>\n",
       "      <th>8</th>\n",
       "      <td>HMBOA(a)</td>\n",
       "      <td>InChI=1S/C9H9NO4/c1-13-5-2-3-6-7(4-5)14-9(12)8...</td>\n",
       "    </tr>\n",
       "    <tr>\n",
       "      <th>9</th>\n",
       "      <td>HMBOA(b)</td>\n",
       "      <td>InChI=1S/C9H9NO4/c1-13-5-2-3-6-7(4-5)14-9(12)8...</td>\n",
       "    </tr>\n",
       "    <tr>\n",
       "      <th>10</th>\n",
       "      <td>DIM2BOA-glucoside(a) (NEG)</td>\n",
       "      <td>InChI=1S/C16H21NO11/c1-24-7-4-3-6-12(13(7)25-2...</td>\n",
       "    </tr>\n",
       "  </tbody>\n",
       "</table>\n",
       "</div>"
      ],
      "text/plain": [
       "                                    Compound Name  \\\n",
       "0                                   MBOA (Coixol)   \n",
       "1                                HDMBOA-glucoside   \n",
       "2   HDMBOA-glucoside-like (410 version - adduct?)   \n",
       "3                                       DIMBOA(a)   \n",
       "4                                       DIMBOA(b)   \n",
       "5                                           DIBOA   \n",
       "6                                            ABOA   \n",
       "7                              ABOA-like compound   \n",
       "8                                        HMBOA(a)   \n",
       "9                                        HMBOA(b)   \n",
       "10                     DIM2BOA-glucoside(a) (NEG)   \n",
       "\n",
       "                                                InChI  \n",
       "0   InChI=1S/C8H7NO3/c1-11-5-2-3-6-7(4-5)12-8(10)9...  \n",
       "1   InChI=1S/C16H21NO10/c1-23-7-3-4-8-9(5-7)25-16(...  \n",
       "2   InChI=1S/C16H21NO10/c1-23-7-3-4-8-9(5-7)25-16(...  \n",
       "3   InChI=1S/C9H9NO5/c1-14-5-2-3-6-7(4-5)15-9(12)8...  \n",
       "4   InChI=1S/C9H9NO5/c1-14-5-2-3-6-7(4-5)15-9(12)8...  \n",
       "5   InChI=1S/C8H7NO4/c10-7-8(11)13-6-4-2-1-3-5(6)9...  \n",
       "6   InChI=1S/C9H7NO3/c1-5(11)6-3-2-4-7-8(6)10-9(12...  \n",
       "7   InChI=1S/C9H7NO3/c1-5(11)6-3-2-4-7-8(6)10-9(12...  \n",
       "8   InChI=1S/C9H9NO4/c1-13-5-2-3-6-7(4-5)14-9(12)8...  \n",
       "9   InChI=1S/C9H9NO4/c1-13-5-2-3-6-7(4-5)14-9(12)8...  \n",
       "10  InChI=1S/C16H21NO11/c1-24-7-4-3-6-12(13(7)25-2...  "
      ]
     },
     "execution_count": 5,
     "metadata": {},
     "output_type": "execute_result"
    }
   ],
   "source": [
    "test_df.head(n=11)"
   ]
  },
  {
   "cell_type": "code",
   "execution_count": 6,
   "metadata": {
    "scrolled": true
   },
   "outputs": [
    {
     "data": {
      "text/html": [
       "<div>\n",
       "<style scoped>\n",
       "    .dataframe tbody tr th:only-of-type {\n",
       "        vertical-align: middle;\n",
       "    }\n",
       "\n",
       "    .dataframe tbody tr th {\n",
       "        vertical-align: top;\n",
       "    }\n",
       "\n",
       "    .dataframe thead th {\n",
       "        text-align: right;\n",
       "    }\n",
       "</style>\n",
       "<table border=\"1\" class=\"dataframe\">\n",
       "  <thead>\n",
       "    <tr style=\"text-align: right;\">\n",
       "      <th></th>\n",
       "      <th>Compound Name</th>\n",
       "      <th>InChI</th>\n",
       "    </tr>\n",
       "  </thead>\n",
       "  <tbody>\n",
       "    <tr>\n",
       "      <th>899</th>\n",
       "      <td>GLYCEROL-MYRISTATE</td>\n",
       "      <td>InChI=1S/C17H34O4/c1-2-3-4-5-6-7-8-9-10-11-12-...</td>\n",
       "    </tr>\n",
       "    <tr>\n",
       "      <th>900</th>\n",
       "      <td>TRICOSANOATE</td>\n",
       "      <td>InChI=1S/C23H46O2/c1-2-3-4-5-6-7-8-9-10-11-12-...</td>\n",
       "    </tr>\n",
       "    <tr>\n",
       "      <th>901</th>\n",
       "      <td>COENZYME Q10</td>\n",
       "      <td>InChI=1S/C59H90O4/c1-44(2)24-15-25-45(3)26-16-...</td>\n",
       "    </tr>\n",
       "    <tr>\n",
       "      <th>902</th>\n",
       "      <td>CORTISONE</td>\n",
       "      <td>InChI=1S/C21H28O5/c1-19-7-5-13(23)9-12(19)3-4-...</td>\n",
       "    </tr>\n",
       "    <tr>\n",
       "      <th>903</th>\n",
       "      <td>DECANOATE (NEG)</td>\n",
       "      <td>InChI=1S/C10H20O2/c1-2-3-4-5-6-7-8-9-10(11)12/...</td>\n",
       "    </tr>\n",
       "  </tbody>\n",
       "</table>\n",
       "</div>"
      ],
      "text/plain": [
       "          Compound Name                                              InChI\n",
       "899  GLYCEROL-MYRISTATE  InChI=1S/C17H34O4/c1-2-3-4-5-6-7-8-9-10-11-12-...\n",
       "900        TRICOSANOATE  InChI=1S/C23H46O2/c1-2-3-4-5-6-7-8-9-10-11-12-...\n",
       "901        COENZYME Q10  InChI=1S/C59H90O4/c1-44(2)24-15-25-45(3)26-16-...\n",
       "902           CORTISONE  InChI=1S/C21H28O5/c1-19-7-5-13(23)9-12(19)3-4-...\n",
       "903     DECANOATE (NEG)  InChI=1S/C10H20O2/c1-2-3-4-5-6-7-8-9-10(11)12/..."
      ]
     },
     "execution_count": 6,
     "metadata": {},
     "output_type": "execute_result"
    }
   ],
   "source": [
    "test_df.tail()"
   ]
  },
  {
   "cell_type": "markdown",
   "metadata": {},
   "source": [
    "## Inputting InChi in Rdkit"
   ]
  },
  {
   "cell_type": "code",
   "execution_count": 7,
   "metadata": {},
   "outputs": [],
   "source": [
    "test_InChi = test_df[\"InChI\"][0]"
   ]
  },
  {
   "cell_type": "code",
   "execution_count": 8,
   "metadata": {},
   "outputs": [
    {
     "data": {
      "text/plain": [
       "'InChI=1S/C8H7NO3/c1-11-5-2-3-6-7(4-5)12-8(10)9-6/h2-4H,1H3,(H,9,10)'"
      ]
     },
     "execution_count": 8,
     "metadata": {},
     "output_type": "execute_result"
    }
   ],
   "source": [
    "test_InChi"
   ]
  },
  {
   "cell_type": "code",
   "execution_count": 9,
   "metadata": {},
   "outputs": [],
   "source": [
    "test_m = rdkit.Chem.inchi.MolFromInchi(test_InChi)"
   ]
  },
  {
   "cell_type": "code",
   "execution_count": 10,
   "metadata": {
    "scrolled": true
   },
   "outputs": [
    {
     "data": {
      "image/png": "[encoded data removed]",
      "text/plain": [
       "<rdkit.Chem.rdchem.Mol at 0x7f8d690880f0>"
      ]
     },
     "execution_count": 10,
     "metadata": {},
     "output_type": "execute_result"
    }
   ],
   "source": [
    "test_m"
   ]
  },
  {
   "cell_type": "code",
   "execution_count": 11,
   "metadata": {},
   "outputs": [],
   "source": [
    "test_m.SetProp(\"_Name\", test_df[\"Compound Name\"][0])"
   ]
  },
  {
   "cell_type": "code",
   "execution_count": 12,
   "metadata": {
    "scrolled": true
   },
   "outputs": [],
   "source": [
    "molblock_string = rdkit.Chem.MolToMolBlock(test_m)"
   ]
  },
  {
   "cell_type": "code",
   "execution_count": 13,
   "metadata": {
    "scrolled": true
   },
   "outputs": [
    {
     "name": "stdout",
     "output_type": "stream",
     "text": [
      "MBOA (Coixol)\n",
      "     RDKit          2D\n",
      "\n",
      " 12 13  0  0  0  0  0  0  0  0999 V2000\n",
      "    3.0000    2.5981    0.0000 C   0  0  0  0  0  0  0  0  0  0  0  0\n",
      "    1.5000    0.0000    0.0000 C   0  0  0  0  0  0  0  0  0  0  0  0\n",
      "    0.7500   -1.2990    0.0000 C   0  0  0  0  0  0  0  0  0  0  0  0\n",
      "   -0.7500    1.2990    0.0000 C   0  0  0  0  0  0  0  0  0  0  0  0\n",
      "    0.7500    1.2990    0.0000 C   0  0  0  0  0  0  0  0  0  0  0  0\n",
      "   -0.7500   -1.2990    0.0000 C   0  0  0  0  0  0  0  0  0  0  0  0\n",
      "   -1.5000    0.0000    0.0000 C   0  0  0  0  0  0  0  0  0  0  0  0\n",
      "   -3.1240   -1.8037    0.0000 C   0  0  0  0  0  0  0  0  0  0  0  0\n",
      "   -1.7537   -2.4138    0.0000 N   0  0  0  0  0  0  0  0  0  0  0  0\n",
      "   -4.4231   -2.5537    0.0000 O   0  0  0  0  0  0  0  0  0  0  0  0\n",
      "    1.5000    2.5981    0.0000 O   0  0  0  0  0  0  0  0  0  0  0  0\n",
      "   -2.9672   -0.3119    0.0000 O   0  0  0  0  0  0  0  0  0  0  0  0\n",
      "  1 11  1  0\n",
      "  2  3  2  0\n",
      "  2  5  1  0\n",
      "  3  6  1  0\n",
      "  4  5  2  0\n",
      "  4  7  1  0\n",
      "  5 11  1  0\n",
      "  6  7  2  0\n",
      "  6  9  1  0\n",
      "  7 12  1  0\n",
      "  8  9  2  0\n",
      "  8 10  1  0\n",
      "  8 12  1  0\n",
      "M  END\n",
      "\n"
     ]
    }
   ],
   "source": [
    "print(molblock_string)"
   ]
  },
  {
   "cell_type": "markdown",
   "metadata": {},
   "source": [
    "## Making a new column for Mol Object"
   ]
  },
  {
   "cell_type": "markdown",
   "metadata": {},
   "source": [
    "- We'll be using Pandas `apply` function that lets us use columns from the dataframe to create new columns\n",
    "    - Since we'll be using two column, we must create our own function"
   ]
  },
  {
   "cell_type": "code",
   "execution_count": 14,
   "metadata": {},
   "outputs": [],
   "source": [
    "def MolfromInchi_for_dataframe_column(row, name_column=\"Compound Name\", InChI_column=\"InChI\", **rdkit_param): \n",
    "    \"\"\"\n",
    "    Transforms the InChI string from a Pandas Dataframe row into a Mol object.\n",
    "    Updates the Name property with the associated compound name from a different column\n",
    "    \n",
    "    Parameters\n",
    "    ----------\n",
    "    row: Pandas Dataframe Row \n",
    "    name_column: str \n",
    "    InChI_column: str\n",
    "    **rdkit_param\n",
    "\n",
    "    Returns\n",
    "    -------\n",
    "    Rdkit Mol Object with Name property that corresponds to the compound name\n",
    "    \"\"\"\n",
    "    try:\n",
    "        mol_object = rdkit.Chem.inchi.MolFromInchi(row[InChI_column], **rdkit_param)\n",
    "        mol_object.SetProp(\"_Name\", row[name_column])\n",
    "        return mol_object\n",
    "    except:\n",
    "        return None"
   ]
  },
  {
   "cell_type": "code",
   "execution_count": 15,
   "metadata": {},
   "outputs": [
    {
     "data": {
      "text/html": [
       "<div>\n",
       "<style scoped>\n",
       "    .dataframe tbody tr th:only-of-type {\n",
       "        vertical-align: middle;\n",
       "    }\n",
       "\n",
       "    .dataframe tbody tr th {\n",
       "        vertical-align: top;\n",
       "    }\n",
       "\n",
       "    .dataframe thead th {\n",
       "        text-align: right;\n",
       "    }\n",
       "</style>\n",
       "<table border=\"1\" class=\"dataframe\">\n",
       "  <thead>\n",
       "    <tr style=\"text-align: right;\">\n",
       "      <th></th>\n",
       "      <th>Compound Name</th>\n",
       "      <th>InChI</th>\n",
       "    </tr>\n",
       "  </thead>\n",
       "  <tbody>\n",
       "    <tr>\n",
       "      <th>0</th>\n",
       "      <td>MBOA (Coixol)</td>\n",
       "      <td>InChI=1S/C8H7NO3/c1-11-5-2-3-6-7(4-5)12-8(10)9...</td>\n",
       "    </tr>\n",
       "    <tr>\n",
       "      <th>1</th>\n",
       "      <td>HDMBOA-glucoside</td>\n",
       "      <td>InChI=1S/C16H21NO10/c1-23-7-3-4-8-9(5-7)25-16(...</td>\n",
       "    </tr>\n",
       "    <tr>\n",
       "      <th>2</th>\n",
       "      <td>HDMBOA-glucoside-like (410 version - adduct?)</td>\n",
       "      <td>InChI=1S/C16H21NO10/c1-23-7-3-4-8-9(5-7)25-16(...</td>\n",
       "    </tr>\n",
       "    <tr>\n",
       "      <th>3</th>\n",
       "      <td>DIMBOA(a)</td>\n",
       "      <td>InChI=1S/C9H9NO5/c1-14-5-2-3-6-7(4-5)15-9(12)8...</td>\n",
       "    </tr>\n",
       "    <tr>\n",
       "      <th>4</th>\n",
       "      <td>DIMBOA(b)</td>\n",
       "      <td>InChI=1S/C9H9NO5/c1-14-5-2-3-6-7(4-5)15-9(12)8...</td>\n",
       "    </tr>\n",
       "    <tr>\n",
       "      <th>5</th>\n",
       "      <td>DIBOA</td>\n",
       "      <td>InChI=1S/C8H7NO4/c10-7-8(11)13-6-4-2-1-3-5(6)9...</td>\n",
       "    </tr>\n",
       "    <tr>\n",
       "      <th>6</th>\n",
       "      <td>ABOA</td>\n",
       "      <td>InChI=1S/C9H7NO3/c1-5(11)6-3-2-4-7-8(6)10-9(12...</td>\n",
       "    </tr>\n",
       "    <tr>\n",
       "      <th>7</th>\n",
       "      <td>ABOA-like compound</td>\n",
       "      <td>InChI=1S/C9H7NO3/c1-5(11)6-3-2-4-7-8(6)10-9(12...</td>\n",
       "    </tr>\n",
       "    <tr>\n",
       "      <th>8</th>\n",
       "      <td>HMBOA(a)</td>\n",
       "      <td>InChI=1S/C9H9NO4/c1-13-5-2-3-6-7(4-5)14-9(12)8...</td>\n",
       "    </tr>\n",
       "    <tr>\n",
       "      <th>9</th>\n",
       "      <td>HMBOA(b)</td>\n",
       "      <td>InChI=1S/C9H9NO4/c1-13-5-2-3-6-7(4-5)14-9(12)8...</td>\n",
       "    </tr>\n",
       "    <tr>\n",
       "      <th>10</th>\n",
       "      <td>DIM2BOA-glucoside(a) (NEG)</td>\n",
       "      <td>InChI=1S/C16H21NO11/c1-24-7-4-3-6-12(13(7)25-2...</td>\n",
       "    </tr>\n",
       "    <tr>\n",
       "      <th>11</th>\n",
       "      <td>DIM2BOA-glucoside(b) (NEG)</td>\n",
       "      <td>InChI=1S/C16H21NO11/c1-24-7-4-3-6-12(13(7)25-2...</td>\n",
       "    </tr>\n",
       "    <tr>\n",
       "      <th>12</th>\n",
       "      <td>DIM2BOA-glucoside-like (426 version - adduct?)</td>\n",
       "      <td>InChI=1S/C16H21NO11/c1-24-7-4-3-6-12(13(7)25-2...</td>\n",
       "    </tr>\n",
       "  </tbody>\n",
       "</table>\n",
       "</div>"
      ],
      "text/plain": [
       "                                     Compound Name  \\\n",
       "0                                    MBOA (Coixol)   \n",
       "1                                 HDMBOA-glucoside   \n",
       "2    HDMBOA-glucoside-like (410 version - adduct?)   \n",
       "3                                        DIMBOA(a)   \n",
       "4                                        DIMBOA(b)   \n",
       "5                                            DIBOA   \n",
       "6                                             ABOA   \n",
       "7                               ABOA-like compound   \n",
       "8                                         HMBOA(a)   \n",
       "9                                         HMBOA(b)   \n",
       "10                      DIM2BOA-glucoside(a) (NEG)   \n",
       "11                      DIM2BOA-glucoside(b) (NEG)   \n",
       "12  DIM2BOA-glucoside-like (426 version - adduct?)   \n",
       "\n",
       "                                                InChI  \n",
       "0   InChI=1S/C8H7NO3/c1-11-5-2-3-6-7(4-5)12-8(10)9...  \n",
       "1   InChI=1S/C16H21NO10/c1-23-7-3-4-8-9(5-7)25-16(...  \n",
       "2   InChI=1S/C16H21NO10/c1-23-7-3-4-8-9(5-7)25-16(...  \n",
       "3   InChI=1S/C9H9NO5/c1-14-5-2-3-6-7(4-5)15-9(12)8...  \n",
       "4   InChI=1S/C9H9NO5/c1-14-5-2-3-6-7(4-5)15-9(12)8...  \n",
       "5   InChI=1S/C8H7NO4/c10-7-8(11)13-6-4-2-1-3-5(6)9...  \n",
       "6   InChI=1S/C9H7NO3/c1-5(11)6-3-2-4-7-8(6)10-9(12...  \n",
       "7   InChI=1S/C9H7NO3/c1-5(11)6-3-2-4-7-8(6)10-9(12...  \n",
       "8   InChI=1S/C9H9NO4/c1-13-5-2-3-6-7(4-5)14-9(12)8...  \n",
       "9   InChI=1S/C9H9NO4/c1-13-5-2-3-6-7(4-5)14-9(12)8...  \n",
       "10  InChI=1S/C16H21NO11/c1-24-7-4-3-6-12(13(7)25-2...  \n",
       "11  InChI=1S/C16H21NO11/c1-24-7-4-3-6-12(13(7)25-2...  \n",
       "12  InChI=1S/C16H21NO11/c1-24-7-4-3-6-12(13(7)25-2...  "
      ]
     },
     "execution_count": 15,
     "metadata": {},
     "output_type": "execute_result"
    }
   ],
   "source": [
    "test_df.head(n=13)"
   ]
  },
  {
   "cell_type": "code",
   "execution_count": 16,
   "metadata": {},
   "outputs": [],
   "source": [
    "# Using the InChi column to make a new column of Mol Object\n",
    "test_df[\"mol\"] = test_df.apply(MolfromInchi_for_dataframe_column, axis=1)"
   ]
  },
  {
   "cell_type": "code",
   "execution_count": 17,
   "metadata": {
    "scrolled": true
   },
   "outputs": [
    {
     "data": {
      "text/html": [
       "<div>\n",
       "<style scoped>\n",
       "    .dataframe tbody tr th:only-of-type {\n",
       "        vertical-align: middle;\n",
       "    }\n",
       "\n",
       "    .dataframe tbody tr th {\n",
       "        vertical-align: top;\n",
       "    }\n",
       "\n",
       "    .dataframe thead th {\n",
       "        text-align: right;\n",
       "    }\n",
       "</style>\n",
       "<table border=\"1\" class=\"dataframe\">\n",
       "  <thead>\n",
       "    <tr style=\"text-align: right;\">\n",
       "      <th></th>\n",
       "      <th>Compound Name</th>\n",
       "      <th>InChI</th>\n",
       "      <th>mol</th>\n",
       "    </tr>\n",
       "  </thead>\n",
       "  <tbody>\n",
       "    <tr>\n",
       "      <th>0</th>\n",
       "      <td>MBOA (Coixol)</td>\n",
       "      <td>InChI=1S/C8H7NO3/c1-11-5-2-3-6-7(4-5)12-8(10)9...</td>\n",
       "      <td>&lt;img data-content=\"rdkit/molecule\" src=\"data:i...</td>\n",
       "    </tr>\n",
       "    <tr>\n",
       "      <th>1</th>\n",
       "      <td>HDMBOA-glucoside</td>\n",
       "      <td>InChI=1S/C16H21NO10/c1-23-7-3-4-8-9(5-7)25-16(...</td>\n",
       "      <td>&lt;img data-content=\"rdkit/molecule\" src=\"data:i...</td>\n",
       "    </tr>\n",
       "    <tr>\n",
       "      <th>2</th>\n",
       "      <td>HDMBOA-glucoside-like (410 version - adduct?)</td>\n",
       "      <td>InChI=1S/C16H21NO10/c1-23-7-3-4-8-9(5-7)25-16(...</td>\n",
       "      <td>&lt;img data-content=\"rdkit/molecule\" src=\"data:i...</td>\n",
       "    </tr>\n",
       "    <tr>\n",
       "      <th>3</th>\n",
       "      <td>DIMBOA(a)</td>\n",
       "      <td>InChI=1S/C9H9NO5/c1-14-5-2-3-6-7(4-5)15-9(12)8...</td>\n",
       "      <td>&lt;img data-content=\"rdkit/molecule\" src=\"data:i...</td>\n",
       "    </tr>\n",
       "    <tr>\n",
       "      <th>4</th>\n",
       "      <td>DIMBOA(b)</td>\n",
       "      <td>InChI=1S/C9H9NO5/c1-14-5-2-3-6-7(4-5)15-9(12)8...</td>\n",
       "      <td>&lt;img data-content=\"rdkit/molecule\" src=\"data:i...</td>\n",
       "    </tr>\n",
       "  </tbody>\n",
       "</table>\n",
       "</div>"
      ],
      "text/plain": [
       "                                   Compound Name  \\\n",
       "0                                  MBOA (Coixol)   \n",
       "1                               HDMBOA-glucoside   \n",
       "2  HDMBOA-glucoside-like (410 version - adduct?)   \n",
       "3                                      DIMBOA(a)   \n",
       "4                                      DIMBOA(b)   \n",
       "\n",
       "                                               InChI  \\\n",
       "0  InChI=1S/C8H7NO3/c1-11-5-2-3-6-7(4-5)12-8(10)9...   \n",
       "1  InChI=1S/C16H21NO10/c1-23-7-3-4-8-9(5-7)25-16(...   \n",
       "2  InChI=1S/C16H21NO10/c1-23-7-3-4-8-9(5-7)25-16(...   \n",
       "3  InChI=1S/C9H9NO5/c1-14-5-2-3-6-7(4-5)15-9(12)8...   \n",
       "4  InChI=1S/C9H9NO5/c1-14-5-2-3-6-7(4-5)15-9(12)8...   \n",
       "\n",
       "                                                 mol  \n",
       "0  <img data-content=\"rdkit/molecule\" src=\"data:i...  \n",
       "1  <img data-content=\"rdkit/molecule\" src=\"data:i...  \n",
       "2  <img data-content=\"rdkit/molecule\" src=\"data:i...  \n",
       "3  <img data-content=\"rdkit/molecule\" src=\"data:i...  \n",
       "4  <img data-content=\"rdkit/molecule\" src=\"data:i...  "
      ]
     },
     "execution_count": 17,
     "metadata": {},
     "output_type": "execute_result"
    }
   ],
   "source": [
    "# Pandas can't display images in its dataframe\n",
    "test_df.head()"
   ]
  },
  {
   "cell_type": "markdown",
   "metadata": {},
   "source": [
    "- Checking to see if any have returns `None`"
   ]
  },
  {
   "cell_type": "code",
   "execution_count": 18,
   "metadata": {
    "scrolled": true
   },
   "outputs": [
    {
     "data": {
      "text/html": [
       "<div>\n",
       "<style scoped>\n",
       "    .dataframe tbody tr th:only-of-type {\n",
       "        vertical-align: middle;\n",
       "    }\n",
       "\n",
       "    .dataframe tbody tr th {\n",
       "        vertical-align: top;\n",
       "    }\n",
       "\n",
       "    .dataframe thead th {\n",
       "        text-align: right;\n",
       "    }\n",
       "</style>\n",
       "<table border=\"1\" class=\"dataframe\">\n",
       "  <thead>\n",
       "    <tr style=\"text-align: right;\">\n",
       "      <th></th>\n",
       "      <th>Compound Name</th>\n",
       "      <th>InChI</th>\n",
       "      <th>mol</th>\n",
       "    </tr>\n",
       "  </thead>\n",
       "  <tbody>\n",
       "  </tbody>\n",
       "</table>\n",
       "</div>"
      ],
      "text/plain": [
       "Empty DataFrame\n",
       "Columns: [Compound Name, InChI, mol]\n",
       "Index: []"
      ]
     },
     "execution_count": 18,
     "metadata": {},
     "output_type": "execute_result"
    }
   ],
   "source": [
    "test_df[test_df[\"mol\"].isna()]"
   ]
  },
  {
   "cell_type": "markdown",
   "metadata": {},
   "source": [
    "- Dropping the row with `None`"
   ]
  },
  {
   "cell_type": "code",
   "execution_count": 19,
   "metadata": {},
   "outputs": [],
   "source": [
    "test_df = test_df[~test_df[\"mol\"].isna()]"
   ]
  },
  {
   "cell_type": "code",
   "execution_count": 20,
   "metadata": {},
   "outputs": [
    {
     "data": {
      "text/plain": [
       "(904, 3)"
      ]
     },
     "execution_count": 20,
     "metadata": {},
     "output_type": "execute_result"
    }
   ],
   "source": [
    "test_df.shape"
   ]
  },
  {
   "cell_type": "code",
   "execution_count": 128,
   "metadata": {},
   "outputs": [
    {
     "data": {
      "image/png": "[encoded data removed]",
      "text/plain": [
       "<rdkit.Chem.rdchem.Mol at 0x7f8039546db0>"
      ]
     },
     "execution_count": 128,
     "metadata": {},
     "output_type": "execute_result"
    }
   ],
   "source": [
    "# But image can be displayed individually, Same image as above\n",
    "test_df[\"mol\"][0]"
   ]
  },
  {
   "cell_type": "markdown",
   "metadata": {},
   "source": [
    "## Making a new column for Molblock"
   ]
  },
  {
   "cell_type": "code",
   "execution_count": 129,
   "metadata": {},
   "outputs": [],
   "source": [
    "test_df[\"molblock\"] = test_df[\"mol\"].apply(lambda x: rdkit.Chem.MolToMolBlock(x))"
   ]
  },
  {
   "cell_type": "code",
   "execution_count": 130,
   "metadata": {
    "scrolled": true
   },
   "outputs": [
    {
     "data": {
      "text/html": [
       "<div>\n",
       "<style scoped>\n",
       "    .dataframe tbody tr th:only-of-type {\n",
       "        vertical-align: middle;\n",
       "    }\n",
       "\n",
       "    .dataframe tbody tr th {\n",
       "        vertical-align: top;\n",
       "    }\n",
       "\n",
       "    .dataframe thead th {\n",
       "        text-align: right;\n",
       "    }\n",
       "</style>\n",
       "<table border=\"1\" class=\"dataframe\">\n",
       "  <thead>\n",
       "    <tr style=\"text-align: right;\">\n",
       "      <th></th>\n",
       "      <th>Compound Name</th>\n",
       "      <th>InChI</th>\n",
       "      <th>mol</th>\n",
       "      <th>molblock</th>\n",
       "    </tr>\n",
       "  </thead>\n",
       "  <tbody>\n",
       "    <tr>\n",
       "      <th>0</th>\n",
       "      <td>MBOA (Coixol)</td>\n",
       "      <td>InChI=1S/C8H7NO3/c1-11-5-2-3-6-7(4-5)12-8(10)9...</td>\n",
       "      <td>&lt;img data-content=\"rdkit/molecule\" src=\"data:i...</td>\n",
       "      <td>MBOA (Coixol)\\n     RDKit          2D\\n\\n 12 1...</td>\n",
       "    </tr>\n",
       "    <tr>\n",
       "      <th>1</th>\n",
       "      <td>HDMBOA-glucoside</td>\n",
       "      <td>InChI=1S/C16H21NO10/c1-23-7-3-4-8-9(5-7)25-16(...</td>\n",
       "      <td>&lt;img data-content=\"rdkit/molecule\" src=\"data:i...</td>\n",
       "      <td>HDMBOA-glucoside\\n     RDKit          2D\\n\\n 2...</td>\n",
       "    </tr>\n",
       "    <tr>\n",
       "      <th>2</th>\n",
       "      <td>HDMBOA-glucoside-like (410 version - adduct?)</td>\n",
       "      <td>InChI=1S/C16H21NO10/c1-23-7-3-4-8-9(5-7)25-16(...</td>\n",
       "      <td>&lt;img data-content=\"rdkit/molecule\" src=\"data:i...</td>\n",
       "      <td>HDMBOA-glucoside-like (410 version - adduct?)\\...</td>\n",
       "    </tr>\n",
       "    <tr>\n",
       "      <th>3</th>\n",
       "      <td>DIMBOA(a)</td>\n",
       "      <td>InChI=1S/C9H9NO5/c1-14-5-2-3-6-7(4-5)15-9(12)8...</td>\n",
       "      <td>&lt;img data-content=\"rdkit/molecule\" src=\"data:i...</td>\n",
       "      <td>DIMBOA(a)\\n     RDKit          2D\\n\\n 15 16  0...</td>\n",
       "    </tr>\n",
       "    <tr>\n",
       "      <th>4</th>\n",
       "      <td>DIMBOA(b)</td>\n",
       "      <td>InChI=1S/C9H9NO5/c1-14-5-2-3-6-7(4-5)15-9(12)8...</td>\n",
       "      <td>&lt;img data-content=\"rdkit/molecule\" src=\"data:i...</td>\n",
       "      <td>DIMBOA(b)\\n     RDKit          2D\\n\\n 15 16  0...</td>\n",
       "    </tr>\n",
       "  </tbody>\n",
       "</table>\n",
       "</div>"
      ],
      "text/plain": [
       "                                   Compound Name  \\\n",
       "0                                  MBOA (Coixol)   \n",
       "1                               HDMBOA-glucoside   \n",
       "2  HDMBOA-glucoside-like (410 version - adduct?)   \n",
       "3                                      DIMBOA(a)   \n",
       "4                                      DIMBOA(b)   \n",
       "\n",
       "                                               InChI  \\\n",
       "0  InChI=1S/C8H7NO3/c1-11-5-2-3-6-7(4-5)12-8(10)9...   \n",
       "1  InChI=1S/C16H21NO10/c1-23-7-3-4-8-9(5-7)25-16(...   \n",
       "2  InChI=1S/C16H21NO10/c1-23-7-3-4-8-9(5-7)25-16(...   \n",
       "3  InChI=1S/C9H9NO5/c1-14-5-2-3-6-7(4-5)15-9(12)8...   \n",
       "4  InChI=1S/C9H9NO5/c1-14-5-2-3-6-7(4-5)15-9(12)8...   \n",
       "\n",
       "                                                 mol  \\\n",
       "0  <img data-content=\"rdkit/molecule\" src=\"data:i...   \n",
       "1  <img data-content=\"rdkit/molecule\" src=\"data:i...   \n",
       "2  <img data-content=\"rdkit/molecule\" src=\"data:i...   \n",
       "3  <img data-content=\"rdkit/molecule\" src=\"data:i...   \n",
       "4  <img data-content=\"rdkit/molecule\" src=\"data:i...   \n",
       "\n",
       "                                            molblock  \n",
       "0  MBOA (Coixol)\\n     RDKit          2D\\n\\n 12 1...  \n",
       "1  HDMBOA-glucoside\\n     RDKit          2D\\n\\n 2...  \n",
       "2  HDMBOA-glucoside-like (410 version - adduct?)\\...  \n",
       "3  DIMBOA(a)\\n     RDKit          2D\\n\\n 15 16  0...  \n",
       "4  DIMBOA(b)\\n     RDKit          2D\\n\\n 15 16  0...  "
      ]
     },
     "execution_count": 130,
     "metadata": {},
     "output_type": "execute_result"
    }
   ],
   "source": [
    "test_df.head()"
   ]
  },
  {
   "cell_type": "code",
   "execution_count": 131,
   "metadata": {
    "scrolled": false
   },
   "outputs": [
    {
     "data": {
      "text/plain": [
       "'MBOA (Coixol)\\n     RDKit          2D\\n\\n 12 13  0  0  0  0  0  0  0  0999 V2000\\n    3.0000    2.5981    0.0000 C   0  0  0  0  0  0  0  0  0  0  0  0\\n    1.5000    0.0000    0.0000 C   0  0  0  0  0  0  0  0  0  0  0  0\\n    0.7500   -1.2990    0.0000 C   0  0  0  0  0  0  0  0  0  0  0  0\\n   -0.7500    1.2990    0.0000 C   0  0  0  0  0  0  0  0  0  0  0  0\\n    0.7500    1.2990    0.0000 C   0  0  0  0  0  0  0  0  0  0  0  0\\n   -0.7500   -1.2990    0.0000 C   0  0  0  0  0  0  0  0  0  0  0  0\\n   -1.5000    0.0000    0.0000 C   0  0  0  0  0  0  0  0  0  0  0  0\\n   -3.1240   -1.8037    0.0000 C   0  0  0  0  0  0  0  0  0  0  0  0\\n   -1.7537   -2.4138    0.0000 N   0  0  0  0  0  0  0  0  0  0  0  0\\n   -4.4231   -2.5537    0.0000 O   0  0  0  0  0  0  0  0  0  0  0  0\\n    1.5000    2.5981    0.0000 O   0  0  0  0  0  0  0  0  0  0  0  0\\n   -2.9672   -0.3119    0.0000 O   0  0  0  0  0  0  0  0  0  0  0  0\\n  1 11  1  0\\n  2  3  2  0\\n  2  5  1  0\\n  3  6  1  0\\n  4  5  2  0\\n  4  7  1  0\\n  5 11  1  0\\n  6  7  2  0\\n  6  9  1  0\\n  7 12  1  0\\n  8  9  2  0\\n  8 10  1  0\\n  8 12  1  0\\nM  END\\n'"
      ]
     },
     "execution_count": 131,
     "metadata": {},
     "output_type": "execute_result"
    }
   ],
   "source": [
    "test_df[\"molblock\"][0]"
   ]
  },
  {
   "cell_type": "code",
   "execution_count": 133,
   "metadata": {},
   "outputs": [],
   "source": [
    "test_df.to_csv(\"../2021_03_08_rdkit_test/output/Corrected_MOL_df/MOL_Block.CSV\")"
   ]
  },
  {
   "cell_type": "code",
   "execution_count": null,
   "metadata": {},
   "outputs": [],
   "source": []
  },
  {
   "cell_type": "code",
   "execution_count": null,
   "metadata": {},
   "outputs": [],
   "source": []
  }
 ],
 "metadata": {
  "kernelspec": {
   "display_name": "Python 3",
   "language": "python",
   "name": "python3"
  },
  "language_info": {
   "codemirror_mode": {
    "name": "ipython",
    "version": 3
   },
   "file_extension": ".py",
   "mimetype": "text/x-python",
   "name": "python",
   "nbconvert_exporter": "python",
   "pygments_lexer": "ipython3",
   "version": "3.8.3"
  }
 },
 "nbformat": 4,
 "nbformat_minor": 5
}
